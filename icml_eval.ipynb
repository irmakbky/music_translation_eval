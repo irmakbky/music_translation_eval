{
 "cells": [
  {
   "cell_type": "code",
   "execution_count": 6,
   "id": "135a23f6-07a4-4f97-b1c4-5e6fd9b56802",
   "metadata": {},
   "outputs": [],
   "source": [
    "import os\n",
    "import scipy\n",
    "import librosa\n",
    "import librosa.display\n",
    "import pretty_midi\n",
    "import numpy as np\n",
    "import matplotlib.pyplot as plt\n",
    "\n",
    "from pathlib import Path\n",
    "from music21 import converter, midi\n",
    "from IPython.display import Audio"
   ]
  },
  {
   "cell_type": "code",
   "execution_count": 7,
   "id": "ea686560-e7e3-4b3a-96cb-a4a50d54a3bd",
   "metadata": {},
   "outputs": [],
   "source": [
    "path = Path('/mnt/sdb/ibukey/asap-dataset/Bach/Fugue/bwv_848')\n",
    "performance_wav1 = str(path/'Denisova06M.wav')\n",
    "performance_wav2 = str(path/'Lee01M.wav')\n",
    "musicxml_score = str(path/'xml_score.musicxml')"
   ]
  },
  {
   "cell_type": "code",
   "execution_count": 8,
   "id": "1668a7da-b56a-420a-9449-2dada4d2b004",
   "metadata": {},
   "outputs": [],
   "source": [
    "with open(\"file_list.txt\", \"w\") as file:\n",
    "    file.write(performance_wav1.replace('/mnt/sdb/ibukey/', '/opt/')+'\\n')\n",
    "    file.write(performance_wav2.replace('/mnt/sdb/ibukey/', '/opt/')+'\\n')"
   ]
  },
  {
   "cell_type": "code",
   "execution_count": 4,
   "id": "08aff548-5bae-4eee-ae3a-aab6a06277a5",
   "metadata": {},
   "outputs": [],
   "source": [
    "# Audio to MIDI transcription\n",
    "os.makedirs('midi', exist_ok=True)\n",
    "os.makedirs('onf_score', exist_ok=True)"
   ]
  },
  {
   "cell_type": "code",
   "execution_count": 84,
   "id": "23ac6a15-bfe7-4c80-a6f3-2649892e50f7",
   "metadata": {
    "scrolled": true
   },
   "outputs": [],
   "source": [
    "# ! docker build -t onf ."
   ]
  },
  {
   "cell_type": "code",
   "execution_count": 83,
   "id": "c535353b-5f59-42e9-ac80-3a1a4a20aee4",
   "metadata": {
    "scrolled": true
   },
   "outputs": [],
   "source": [
    "# ! docker run \\\n",
    "# \t-v /home/ibukey/music_translation_eval/midi:/opt/midi \\\n",
    "# \t-v /mnt/sdb/ibukey/asap-dataset:/opt/asap-dataset \\\n",
    "#     -v /mnt/sdb/ibukey/music_translation_eval/onf_score:/opt/onf_score \\\n",
    "#     -t onf"
   ]
  },
  {
   "cell_type": "code",
   "execution_count": 9,
   "id": "30c71235-4888-4340-ac52-662e965606ea",
   "metadata": {},
   "outputs": [],
   "source": [
    "# midi alignment of two audio recordings"
   ]
  },
  {
   "cell_type": "code",
   "execution_count": 10,
   "id": "5c9079d0-4e4f-4b61-a760-44bd23b27a34",
   "metadata": {},
   "outputs": [],
   "source": [
    "transcribed_midi1 = 'midi/asap-dataset/Bach/Fugue/bwv_848/Denisova06M.wav.midi'\n",
    "transcribed_midi2 = 'midi/asap-dataset/Bach/Fugue/bwv_848/Lee01M.wav.midi'"
   ]
  },
  {
   "cell_type": "code",
   "execution_count": 11,
   "id": "c31f851e-2803-4eee-8957-26fe553164c1",
   "metadata": {},
   "outputs": [],
   "source": [
    "frames1 = np.load('wavs/Denisova06M_preds.npy', allow_pickle=True)[0]['frame_predictions'][0].T\n",
    "frames2 = np.load('/mnt/sdb/ibukey/asap-dataset/Bach/Fugue/bwv_848/Lee01M_preds.npy', allow_pickle=True)[0]['frame_predictions'][0].T"
   ]
  },
  {
   "cell_type": "code",
   "execution_count": 12,
   "id": "9756496c-a08a-434e-9eef-40072fe86e69",
   "metadata": {},
   "outputs": [],
   "source": [
    "# aligning frames from o&f for time alignment\n",
    "D, wp = librosa.sequence.dtw(frames1, frames2)"
   ]
  },
  {
   "cell_type": "markdown",
   "id": "ad9477bf-cf13-4640-b22e-64df3683cb79",
   "metadata": {},
   "source": [
    "## Eval"
   ]
  },
  {
   "cell_type": "code",
   "execution_count": 13,
   "id": "5ac1e533-8490-425b-a111-6fffdb0df294",
   "metadata": {},
   "outputs": [],
   "source": [
    "from mir_eval.transcription import precision_recall_f1_overlap, onset_precision_recall_f1, offset_precision_recall_f1"
   ]
  },
  {
   "cell_type": "code",
   "execution_count": 14,
   "id": "2da372d3-386c-4e20-9e59-55da09b09dff",
   "metadata": {},
   "outputs": [],
   "source": [
    "midi_data = pretty_midi.PrettyMIDI(transcribed_midi1)\n",
    "ref_intervals, ref_pitches = [], []\n",
    "for instrument in midi_data.instruments:\n",
    "    for note in instrument.notes:\n",
    "        ref_intervals.append((note.start, note.end))\n",
    "        ref_pitches.append(note.pitch)\n",
    "ref_intervals = np.array(ref_intervals)\n",
    "ref_pitches = np.array(ref_pitches)"
   ]
  },
  {
   "cell_type": "code",
   "execution_count": 15,
   "id": "bf82c43a-0c68-47f4-b982-bfa487d08b34",
   "metadata": {},
   "outputs": [],
   "source": [
    "seen = set()\n",
    "new_wp = np.array([(a, b) for a, b in wp[::-1] if b not in seen and not seen.add(b)])"
   ]
  },
  {
   "cell_type": "code",
   "execution_count": 16,
   "id": "d4c8bd5f-c1b1-4c26-90d1-005d71f67bc1",
   "metadata": {},
   "outputs": [],
   "source": [
    "interp_func = scipy.interpolate.interp1d(new_wp[:, 1], new_wp[:, 0], kind='linear', fill_value=\"extrapolate\")"
   ]
  },
  {
   "cell_type": "code",
   "execution_count": 17,
   "id": "4c92a778-ea44-4a40-af4e-451d3a683bbd",
   "metadata": {},
   "outputs": [],
   "source": [
    "midi_data = pretty_midi.PrettyMIDI(transcribed_midi2)\n",
    "est_intervals, est_pitches = [], []\n",
    "for instrument in midi_data.instruments:\n",
    "    for note in instrument.notes:\n",
    "        start = interp_func(note.start * frame_rate).item() / frame_rate\n",
    "        end = interp_func(note.end * frame_rate).item() / frame_rate\n",
    "        if start == end: # if interpolation causes start and end to be the same due to short duration\n",
    "            end += 1e-9\n",
    "        est_intervals.append((start, end))\n",
    "        est_pitches.append(note.pitch)\n",
    "est_intervals = np.array(est_intervals)\n",
    "est_pitches = np.array(est_pitches)"
   ]
  },
  {
   "cell_type": "code",
   "execution_count": 18,
   "id": "84202fc6-378d-4dd5-bec2-cc3a31f524a1",
   "metadata": {},
   "outputs": [],
   "source": [
    "precision, recall, f_measure, avg_overlap_ratio = precision_recall_f1_overlap(ref_intervals, ref_pitches, est_intervals, est_pitches)"
   ]
  },
  {
   "cell_type": "code",
   "execution_count": 19,
   "id": "dcad4ca2-76db-460c-913b-3dd8962afdc3",
   "metadata": {},
   "outputs": [
    {
     "name": "stdout",
     "output_type": "stream",
     "text": [
      "precision: 0.78 \n",
      "recall: 0.78 \n",
      "f_measure: 0.78 \n",
      "avg_overlap_ratio: 0.86\n"
     ]
    }
   ],
   "source": [
    "print(f\"precision: {round(precision, 2)} \\nrecall: {round(recall, 2)} \\nf_measure: {round(f_measure, 2)} \\navg_overlap_ratio: {round(avg_overlap_ratio, 2)}\")\n"
   ]
  },
  {
   "cell_type": "code",
   "execution_count": 20,
   "id": "5baea4df-9573-4160-9b94-348e9a043c11",
   "metadata": {},
   "outputs": [
    {
     "data": {
      "text/plain": [
       "(0.9475920679886686, 0.9469214437367304, 0.9472566371681417)"
      ]
     },
     "execution_count": 20,
     "metadata": {},
     "output_type": "execute_result"
    }
   ],
   "source": [
    "p, r, f = onset_precision_recall_f1(ref_intervals, est_intervals)\n",
    "p, r, f"
   ]
  },
  {
   "cell_type": "code",
   "execution_count": 21,
   "id": "4ab59749-e0b6-4b63-853e-a74c73ebdbcb",
   "metadata": {},
   "outputs": [
    {
     "data": {
      "text/plain": [
       "(0.8555240793201133, 0.8549186128803963, 0.8552212389380531)"
      ]
     },
     "execution_count": 21,
     "metadata": {},
     "output_type": "execute_result"
    }
   ],
   "source": [
    "p, r, f = offset_precision_recall_f1(ref_intervals, est_intervals)\n",
    "p, r, f"
   ]
  },
  {
   "cell_type": "code",
   "execution_count": null,
   "id": "b2e34051-020c-4944-9d02-e64596885537",
   "metadata": {},
   "outputs": [],
   "source": []
  },
  {
   "cell_type": "code",
   "execution_count": null,
   "id": "95d29915-ae1c-42b8-b59d-e486df7cb929",
   "metadata": {},
   "outputs": [],
   "source": []
  },
  {
   "cell_type": "code",
   "execution_count": null,
   "id": "f844011f-6d92-4c4b-b8af-2e07c715cf6e",
   "metadata": {},
   "outputs": [],
   "source": []
  }
 ],
 "metadata": {
  "kernelspec": {
   "display_name": "Python 3 (ipykernel)",
   "language": "python",
   "name": "python3"
  },
  "language_info": {
   "codemirror_mode": {
    "name": "ipython",
    "version": 3
   },
   "file_extension": ".py",
   "mimetype": "text/x-python",
   "name": "python",
   "nbconvert_exporter": "python",
   "pygments_lexer": "ipython3",
   "version": "3.10.12"
  }
 },
 "nbformat": 4,
 "nbformat_minor": 5
}
