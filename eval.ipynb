{
 "cells": [
  {
   "cell_type": "code",
   "execution_count": 12,
   "id": "fb9fdc47-6dcb-415f-81f1-d3fee3a57fe0",
   "metadata": {},
   "outputs": [],
   "source": [
    "import numpy as np\n",
    "from eval import eval_midi, eval_audio"
   ]
  },
  {
   "cell_type": "code",
   "execution_count": 13,
   "id": "a30fbbe6-0457-417f-90d3-930efe0dc54d",
   "metadata": {},
   "outputs": [],
   "source": [
    "# Evaluate two audio files\n",
    "from pathlib import Path\n",
    "path = Path('/mnt/sdb/ibukey/asap-dataset')\n",
    "performance_wav1 = 'Bach/Fugue/bwv_848/Denisova06M.wav'\n",
    "performance_wav2 = 'Bach/Fugue/bwv_848/Lee01M.wav'"
   ]
  },
  {
   "cell_type": "code",
   "execution_count": 14,
   "id": "9ca82f04-86f0-4b11-a9a9-1b442a33c562",
   "metadata": {
    "scrolled": true
   },
   "outputs": [],
   "source": [
    "# precision, recall, f_measure, avg_overlap_ratio = eval_audio(path, performance_wav1, performance_wav2)"
   ]
  },
  {
   "cell_type": "code",
   "execution_count": 15,
   "id": "bf165fc8-0090-4dd4-a2b6-d602caadf53d",
   "metadata": {},
   "outputs": [],
   "source": [
    "# precision, recall, f_measure, avg_overlap_ratio"
   ]
  },
  {
   "cell_type": "code",
   "execution_count": 16,
   "id": "917dc1e3-a7f5-4000-aa4b-ccddac49a66d",
   "metadata": {},
   "outputs": [],
   "source": [
    "# Evaluate two MIDI files\n",
    "transcribed_midi1 = 'midi/asap-dataset/Bach/Fugue/bwv_848/Denisova06M.wav.midi'\n",
    "transcribed_midi2 = 'midi/asap-dataset/Bach/Fugue/bwv_848/Lee01M.wav.midi'\n",
    "# frames1 = np.load('onf_score/asap-dataset/Bach/Fugue/bwv_848/Denisova06M_preds.npy', allow_pickle=True)[0]['frame_predictions'][0].T\n",
    "# frames2 = np.load('onf_score/asap-dataset/Bach/Fugue/bwv_848/Lee01M_preds.npy', allow_pickle=True)[0]['frame_predictions'][0].T"
   ]
  },
  {
   "cell_type": "code",
   "execution_count": 17,
   "id": "5af199fc-34c2-4928-94db-9e78d6f1a1d3",
   "metadata": {},
   "outputs": [],
   "source": [
    "# Using midi note onsets, offsets, and pitches"
   ]
  },
  {
   "cell_type": "code",
   "execution_count": 18,
   "id": "3224538b-a388-4f3b-98fb-db7945388729",
   "metadata": {},
   "outputs": [
    {
     "data": {
      "text/plain": [
       "(0.7322946175637394,\n",
       " 0.7317763623496107,\n",
       " 0.7320353982300886,\n",
       " 0.7795771914611758)"
      ]
     },
     "execution_count": 18,
     "metadata": {},
     "output_type": "execute_result"
    }
   ],
   "source": [
    "precision, recall, f_measure, avg_overlap_ratio = eval_midi(transcribed_midi1, transcribed_midi2)\n",
    "precision, recall, f_measure, avg_overlap_ratio"
   ]
  },
  {
   "cell_type": "code",
   "execution_count": null,
   "id": "b0934c90-36ce-4bdc-829f-e5139e311d20",
   "metadata": {},
   "outputs": [],
   "source": []
  },
  {
   "cell_type": "code",
   "execution_count": null,
   "id": "4dc6ca73-bd7e-4d58-b33a-b666b7d7d2be",
   "metadata": {},
   "outputs": [],
   "source": [
    "# Using frame predictions"
   ]
  },
  {
   "cell_type": "code",
   "execution_count": 19,
   "id": "06289680-2e9f-4507-98ae-968b981ff29a",
   "metadata": {},
   "outputs": [],
   "source": [
    "# precision, recall, f_measure, avg_overlap_ratio = eval_midi_with_frames(transcribed_midi1, transcribed_midi2, frames1, frames2)\n",
    "# precision, recall, f_measure, avg_overlap_ratio"
   ]
  },
  {
   "cell_type": "code",
   "execution_count": 20,
   "id": "8e8f3911-1db1-4638-a72d-fa73aa80009b",
   "metadata": {},
   "outputs": [],
   "source": [
    "# precision, recall, f_measure, avg_overlap_ratio = eval_midi_with_frames(transcribed_midi1, transcribed_midi2, frames1, frames2, metric=\"onset_precision_recall_f1\")\n",
    "# precision, recall, f_measure, avg_overlap_ratio"
   ]
  },
  {
   "cell_type": "code",
   "execution_count": null,
   "id": "40e39ac2",
   "metadata": {},
   "outputs": [],
   "source": []
  },
  {
   "cell_type": "code",
   "execution_count": null,
   "id": "0f2d0b63-7b6c-45e0-a5eb-0dc48db2564e",
   "metadata": {},
   "outputs": [],
   "source": []
  }
 ],
 "metadata": {
  "kernelspec": {
   "display_name": "Python 3 (ipykernel)",
   "language": "python",
   "name": "python3"
  },
  "language_info": {
   "codemirror_mode": {
    "name": "ipython",
    "version": 3
   },
   "file_extension": ".py",
   "mimetype": "text/x-python",
   "name": "python",
   "nbconvert_exporter": "python",
   "pygments_lexer": "ipython3",
   "version": "3.10.12"
  }
 },
 "nbformat": 4,
 "nbformat_minor": 5
}
